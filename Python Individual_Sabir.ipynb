{
 "cells": [
  {
   "cell_type": "markdown",
   "metadata": {},
   "source": [
    "                                           Indeed Web Scraping"
   ]
  },
  {
   "cell_type": "code",
   "execution_count": 9,
   "metadata": {},
   "outputs": [],
   "source": [
    "URL = \"https://www.indeed.co.uk/jobs?q=Data+Analyst+%C2%A330%2C000&l=London%2C+Greater+London\""
   ]
  },
  {
   "cell_type": "code",
   "execution_count": 10,
   "metadata": {},
   "outputs": [],
   "source": [
    "#Importing the required libraries\n",
    "import urllib\n",
    "import requests\n",
    "import bs4\n",
    "from bs4 import BeautifulSoup\n",
    "import pandas as pd\n",
    "import re\n",
    "from pandas import ExcelWriter\n",
    "from pandas import ExcelFile\n",
    "import json\n",
    "from pandas import DataFrame\n",
    "from tabulate import tabulate\n",
    "import matplotlib.pyplot as plt\n",
    "import pdfcrowd\n",
    "import sys\n",
    "from TwitterAPI import TwitterAPI"
   ]
  },
  {
   "cell_type": "code",
   "execution_count": 11,
   "metadata": {},
   "outputs": [],
   "source": [
    "#Parsing the URL\n",
    "def parse(url):\n",
    "    html = requests.get(url)\n",
    "    soup = BeautifulSoup(html.content, 'html.parser', from_encoding=\"utf-8\")\n",
    "    df = pd.DataFrame(columns=[\"Job Profile\",\"Location\",\"Name of Company\",\"Salary\",\"Description\"])\n",
    "    for each in soup.find_all(class_= \"result\" ):\n",
    "        try: \n",
    "            title = each.find(class_='jobtitle').text.replace('\\n', '')\n",
    "        except:\n",
    "            title = 'None'\n",
    "        try:\n",
    "            location = each.find('span', {'class':\"location\" }).text.replace('\\n', '')\n",
    "        except:\n",
    "            location = 'None'\n",
    "        try: \n",
    "            company = each.find(class_='company').text.replace('\\n', '')\n",
    "        except:\n",
    "            company = 'None'\n",
    "        try:\n",
    "            salary = each.find('span', {'class':'no-wrap'}).text\n",
    "        except:\n",
    "            salary = 'None'\n",
    "        try:\n",
    "            salary = each.find('span', {'class':'no-wrap'}).text.replace('\\n', '')\n",
    "        except:\n",
    "            company = 'None'\n",
    "        \n",
    "        synopsis = each.find('span', {'class':'summary'}).text.replace('\\n', '')\n",
    "        \n",
    "        df = df.append({'Job Profile':title, 'Name of Company':company, 'Location':location,'Salary':salary,'Description':synopsis}, ignore_index=True)\n",
    "    return df"
   ]
  },
  {
   "cell_type": "code",
   "execution_count": 12,
   "metadata": {
    "scrolled": true
   },
   "outputs": [],
   "source": [
    "records=parse(URL)"
   ]
  },
  {
   "cell_type": "code",
   "execution_count": 13,
   "metadata": {
    "scrolled": true
   },
   "outputs": [],
   "source": [
    "#Converting the parsed url into a dataframe \n",
    "df = pd.DataFrame(records,columns=[\"Job Profile\",\"Location\",\"Name of Company\",\"Salary\"])\n",
    "head=df.head(1)"
   ]
  },
  {
   "cell_type": "code",
   "execution_count": 14,
   "metadata": {
    "scrolled": true
   },
   "outputs": [
    {
     "name": "stdout",
     "output_type": "stream",
     "text": [
      "Job Profile                                   Location     Name of Company                   Salary\n",
      "--------------------------------------------  -----------  --------------------------------  ------------------------\n",
      "Data Analysts                                 None         HMRC                              £30,260 - £38,310 a year\n",
      "Data Analyst                                  None         None                              None\n",
      "Senior Data Analyst                           None         None                              None\n",
      "Customer Data Analyst                         None         AXA UK                            £28,000 - £35,000 a year\n",
      "2019 Equity Research Data Analyst Internship  None         None                              None\n",
      "Data Entry Assistant                          London       TransPerfect                      £16 an hour\n",
      "2019 Equity Research Data Analyst Internship  London       None                              None\n",
      "Data Analyst                                  London       None                              None\n",
      "Data Analyst                                  London       House of Commons                  £30,452 - £36,532 a year\n",
      "Data Analyst                                  London       None                              None\n",
      "Data Protection Analyst                       London       Save the Children                 £36,000 - £40,000 a year\n",
      "Performance & Data Analyst (Fixed Term)       Bexleyheath  London Borough of Bexley Council  £29,712 - £34,959 a year\n",
      "HR Data Analyst                               London       None                              None\n",
      "Data Analyst                                  London       Cancer Research UK                £26,000 - £34,000 a year\n",
      "Data Analyst                                  London       Cabinet Office                    £31,339 - £38,580 a year\n",
      "Data Analyst                                  None         Behavox                           £60,000 - £80,000 a year\n",
      "Senior Analyst, Forecasting and Modeling      None         None                              None\n",
      "Senior Marketing Data Analyst (Econometrics)  None         None                              None\n",
      "Marketplace (Data) Analyst                    None         None                              None\n"
     ]
    }
   ],
   "source": [
    "#Converting dataframe into a table\n",
    "df = pd.DataFrame(records,columns=[\"Job Profile\",\"Location\",\"Name of Company\",\"Salary\"]).set_index(\"Job Profile\")\n",
    "\n",
    "table=print(tabulate(df, tablefmt=\"markdown\", headers=\"keys\"))\n",
    "table\n",
    "df.to_html('filename.html')"
   ]
  },
  {
   "cell_type": "code",
   "execution_count": 15,
   "metadata": {},
   "outputs": [],
   "source": [
    "#Converting the table into image via PDFCrowd\n",
    "try:\n",
    "    # create the API client instance\n",
    "    client = pdfcrowd.HtmlToImageClient('sabir93', 'a11e35c38d37dc3ccf1d49c0687b2dc9')\n",
    "\n",
    "    # configure the conversion\n",
    "    client.setOutputFormat('png')\n",
    "\n",
    "    # run the conversion and write the result to a file\n",
    "    client.convertFileToFile('C:/Users/sakhtar/Downloads/Financial Programming/filename.html', 'filename.png')\n",
    "except pdfcrowd.Error as why:\n",
    "    # report the error\n",
    "    sys.stderr.write('Pdfcrowd Error: {}\\n'.format(why))\n",
    "\n",
    "    # handle the exception here or rethrow and handle it at a higher level\n",
    "    raise"
   ]
  },
  {
   "cell_type": "code",
   "execution_count": 16,
   "metadata": {
    "scrolled": false
   },
   "outputs": [
    {
     "name": "stdout",
     "output_type": "stream",
     "text": [
      "200\n"
     ]
    }
   ],
   "source": [
    "#UPLOADING MEDIA AND STATUS ON TWITTER\n",
    "#use your user credentials via Twitter Developers\n",
    "CONSUMER_KEY = 'v8o0A7MZtDfNHX5zanwh4SbJV'\n",
    "CONSUMER_SECRET = 'CAtFAU6FYCrk7D6leTDrUh95r4Sb2fqrBhs1jvAMMshTHZVdav'\n",
    "ACCESS_TOKEN_KEY = '322170612-LjUOY6VSTczoGZ0rEIUfFEKlbSKSll4z4x7KJcPY'\n",
    "ACCESS_TOKEN_SECRET = 'KkvAhOElQTxmVhDvd759tOQdYMTM1bKIKP5xe9LUlJg5R'\n",
    "\n",
    "#Upload the media with \n",
    "api = TwitterAPI(CONSUMER_KEY, CONSUMER_SECRET, ACCESS_TOKEN_KEY, ACCESS_TOKEN_SECRET)\n",
    "file = open('filename.png', 'rb')\n",
    "data = file.read()\n",
    "r = api.request('statuses/update_with_media', {'status':'Data Analyst Jobs in London'}, {'media[]':data})\n",
    "print(r.status_code)"
   ]
  }
 ],
 "metadata": {
  "kernelspec": {
   "display_name": "Python 3",
   "language": "python",
   "name": "python3"
  },
  "language_info": {
   "codemirror_mode": {
    "name": "ipython",
    "version": 3
   },
   "file_extension": ".py",
   "mimetype": "text/x-python",
   "name": "python",
   "nbconvert_exporter": "python",
   "pygments_lexer": "ipython3",
   "version": "3.6.5"
  }
 },
 "nbformat": 4,
 "nbformat_minor": 2
}
